{
 "cells": [
  {
   "cell_type": "markdown",
   "metadata": {},
   "source": [
    "# BE6 : Optimisation\n",
    "### MESSINA Valentin"
   ]
  },
  {
   "cell_type": "code",
   "execution_count": 4,
   "metadata": {},
   "outputs": [],
   "source": [
    "import numpy as np\n",
    "import matplotlib.pyplot as plt\n",
    "import math\n",
    "import random\n",
    "from scipy.stats import expon,norm,uniform\n",
    "from random import *\n",
    "from math import *"
   ]
  },
  {
   "cell_type": "markdown",
   "metadata": {},
   "source": [
    "## Partie 1 : recuit-simulé"
   ]
  },
  {
   "cell_type": "markdown",
   "metadata": {},
   "source": [
    "### Question 1 :"
   ]
  },
  {
   "cell_type": "code",
   "execution_count": 58,
   "metadata": {},
   "outputs": [
    {
     "name": "stdout",
     "output_type": "stream",
     "text": [
      "Le critère φMm-optimal pour le plan d'expérience est : -1.4142135623730951\n"
     ]
    }
   ],
   "source": [
    "def phi_Mm(X):\n",
    "    N, D = X.shape\n",
    "    phi_Mm = np.zeros(N)\n",
    "\n",
    "    for i in range(N):\n",
    "        min_distance = float('inf')\n",
    "\n",
    "        for j in range(N):\n",
    "            if i != j:\n",
    "                distance = np.linalg.norm(X[j] - X[i])\n",
    "                min_distance = min(min_distance, distance)\n",
    "\n",
    "        phi_Mm[i] = min_distance\n",
    "\n",
    "    return - min(k for k in (phi_Mm))\n",
    "\n",
    "# Supposons que plan_X soit le plan d'expérience de taille N en dimension 2\n",
    "\n",
    "# Exemple1 : Plan carré avec un point au milieu sur [—1,1]^2\n",
    "\n",
    "side_length = 1\n",
    "center_point = np.array([0, 0])\n",
    "corner_points = np.array([[side_length, side_length], [side_length, -side_length],[-side_length, -side_length], [-side_length, side_length]])\n",
    "\n",
    "plan_X = np.vstack([corner_points, center_point])\n",
    "\n",
    "# Exemple2 : Plan carré sans point au milieusur [—1,1]^2\n",
    "\n",
    "#num_points = 4\n",
    "#side_length = 1\n",
    "#corner_points = np.array([[side_length, side_length], [side_length, -side_length],\n",
    "#                          [-side_length, -side_length], [-side_length, side_length]])\n",
    "\n",
    "#plan_X = corner_points\n",
    "\n",
    "\n",
    "critere_phiMm = -phi_Mm(plan_X)\n",
    "print(f\"Le critère φMm-optimal pour le plan d'expérience est : {critere_phiMm}\")"
   ]
  },
  {
   "cell_type": "code",
   "execution_count": 59,
   "metadata": {},
   "outputs": [
    {
     "data": {
      "image/png": "[encoded data removed]",
      "text/plain": [
       "<Figure size 432x288 with 1 Axes>"
      ]
     },
     "metadata": {
      "needs_background": "light"
     },
     "output_type": "display_data"
    }
   ],
   "source": [
    "# Visualisation du plan d'expérience\n",
    "plt.scatter(plan_X[:, 0], plan_X[:, 1], label='Points du plan')\n",
    "plt.title('Plan d\\'expérience en 2D')\n",
    "plt.legend()\n",
    "plt.show()"
   ]
  },
  {
   "cell_type": "markdown",
   "metadata": {},
   "source": [
    "### Question 2 :"
   ]
  },
  {
   "cell_type": "code",
   "execution_count": 61,
   "metadata": {},
   "outputs": [
    {
     "name": "stdout",
     "output_type": "stream",
     "text": [
      "points initiaux : [[ 0.27475551  0.7651015 ]\n",
      " [-0.65129239  0.34359537]\n",
      " [ 0.19031025  0.88470705]\n",
      " [ 0.94410564  0.4357764 ]\n",
      " [ 0.07880536  0.87470854]]\n",
      "Iteration 10000: Energy = -1.0734519438052825, Temperature = 1.0857244172444134\n",
      "Iteration 20000: Energy = -1.1769847839283503, Temperature = 1.0097402012376175\n",
      "Iteration 30000: Energy = -1.1941525284824064, Temperature = 0.9700275086590244\n",
      "Iteration 40000: Energy = -1.2247095717895784, Temperature = 0.9436936027173116\n",
      "Iteration 50000: Energy = -1.2746697782556597, Temperature = 0.9242316480699417\n",
      "Iteration 60000: Energy = -1.2746697782556597, Temperature = 0.9089160247459882\n",
      "Iteration 70000: Energy = -1.2746697782556597, Temperature = 0.8963573537663638\n",
      "Iteration 80000: Energy = -1.2825814320429447, Temperature = 0.885755721820169\n",
      "Iteration 90000: Energy = -1.2825814320429447, Temperature = 0.876610416365951\n",
      "Iteration 100000: Energy = -1.2825814320429447, Temperature = 0.868588209364143\n",
      "Points finaux : [[ 0.84142366  0.94196931]\n",
      " [-0.92425631 -0.96289144]\n",
      " [ 0.97261216 -0.98495542]\n",
      " [-0.82362551  0.99977695]\n",
      " [-0.01435132 -0.01336535]]\n",
      "Énergie finale : -1.2825814320429447\n"
     ]
    },
    {
     "data": {
      "image/png": "[encoded data removed]",
      "text/plain": [
       "<Figure size 432x288 with 1 Axes>"
      ]
     },
     "metadata": {
      "needs_background": "light"
     },
     "output_type": "display_data"
    }
   ],
   "source": [
    "def points_aleatoires_carre():\n",
    "\n",
    "    # Nombre de points à générer\n",
    "    nb_points = 5\n",
    "\n",
    "    # Génération de points aléatoires dans le carré\n",
    "    points = np.random.uniform(-1, 1, size=(nb_points, 2))\n",
    "    #plt.scatter(points[:,0], points[:,1])\n",
    "    return points\n",
    "\n",
    "def step(ensemble_points):\n",
    "\n",
    "    # Sélectionne deux indices de points au hasard\n",
    "    indices_points_choisis = np.random.choice(5, size=2, replace=False)\n",
    "\n",
    "    # Remplace les points choisis par deux nouveaux points aléatoires dans le carré\n",
    "    ensemble_modifie = ensemble_points.copy()\n",
    "    ensemble_modifie[indices_points_choisis[0]] = np.random.uniform(-1, 1, size=2)\n",
    "    ensemble_modifie[indices_points_choisis[1]] = np.random.uniform(-1, 1, size=2)\n",
    "\n",
    "    return ensemble_modifie\n",
    "\n",
    "\n",
    "def step2(matrice_points):\n",
    "\n",
    "    # Sélectionne un indice de point au hasard\n",
    "    indice_point_choisi = np.random.randint(0, len(matrice_points))\n",
    "\n",
    "    # Remplace le point choisi par un nouveau point aléatoire dans le carré\n",
    "    matrice_modifiee = matrice_points.copy()\n",
    "    matrice_modifiee[indice_point_choisi] = np.random.uniform(-1, 1, size=2)\n",
    "\n",
    "    return matrice_modifiee\n",
    "\n",
    "\n",
    "def simulated_annealing(initial_points):\n",
    "    print(f\"points initiaux : {initial_points}\")\n",
    "    current_points = initial_points.copy()\n",
    "    current_energy = phi_Mm(current_points)\n",
    "\n",
    "    iteration = 1\n",
    "    while True:\n",
    "        temperature = C / math.log(iteration + 1)\n",
    "        new_points = step(current_points)\n",
    "        new_energy = phi_Mm(new_points)\n",
    "\n",
    "        energy_difference = new_energy - current_energy\n",
    "\n",
    "        if energy_difference < 0 or random.random() > math.exp(energy_difference / temperature):\n",
    "            current_points = new_points\n",
    "            current_energy = new_energy\n",
    "\n",
    "        # Affichage facultatif pour suivre le progrès\n",
    "        if iteration % 10000 == 0:\n",
    "            print(f\"Iteration {iteration}: Energy = {current_energy}, Temperature = {temperature}\")\n",
    "\n",
    "        # Condition d'arrêt\n",
    "        if abs(phi_Mm(new_points)-1.4142135623730951)<eps  or iteration % 100000==0  :\n",
    "            break\n",
    "\n",
    "        iteration += 1\n",
    "    return current_points, current_energy\n",
    "\n",
    "\n",
    "eps=0.01\n",
    "initial_points = points_aleatoires_carre()\n",
    "C=10\n",
    "\n",
    "final_points, final_energy = simulated_annealing(initial_points)\n",
    "\n",
    "plt.scatter(initial_points[:,0], initial_points[:,1],label=\"Configuration initiale\")\n",
    "plt.scatter(final_points[:,0], final_points[:,1],label=\"Configuration finale\")\n",
    "plt.legend()\n",
    "print(f\"Points finaux : {final_points}\")\n",
    "print(f\"Énergie finale : {final_energy}\")"
   ]
  },
  {
   "cell_type": "markdown",
   "metadata": {},
   "source": [
    "- On a choisi une exploration en modifiant 2 points pris au hasard dans le plan et en les remplaçant par des points pris par une loi uniforme dans le carré\n",
    "- On prend une décroissance de $T$ en logarithme car c'est le choix optimal théoriquement\n",
    "- On prend une valeur de $C$ supérieure à $\\sqrt{2}$ qui est la valeur maximale de $\\varphi$"
   ]
  },
  {
   "cell_type": "markdown",
   "metadata": {},
   "source": [
    "## Partie 2 : régression par moindres carrés régularisés"
   ]
  },
  {
   "cell_type": "code",
   "execution_count": 5,
   "metadata": {},
   "outputs": [],
   "source": [
    "np.random.seed(seed=31410)\n",
    "nt = 100 #taille de l'échantillon total \n",
    "T = 10 #Dimension de la variable explicative \n",
    "d = 200\n",
    "rsnr=30\n",
    "Xt=norm.rvs(size=(nt,d))\n",
    "Xt=Xt/(np.ones((nt,1))*(np.sum(Xt**2,axis=0))**(1/2))   #chaque observation $x_i$ est normalisé de norme 1.\n",
    "\n",
    "# create signal \n",
    "ind=np.random.permutation(d) # crée une permutation de taille d\n",
    "indice=ind[0:T]  #récupère les T premiers indices de la permutation\n",
    "weights=norm.rvs(size=(T,1))\n",
    "for i in range (0,T):\n",
    "    weights[i]=weights[i] + copysign(1,weights[i])\n",
    "yt=Xt[0:nt,indice]@weights #le signal ne dépend que des variables dont les indices sont dans indice\n",
    "stdnoise=np.std(yt)/rsnr\n",
    "yt=yt+norm.rvs(loc =0, scale = stdnoise,size=(np.size(yt),1))\n",
    "\n",
    "\n",
    "#création du fichier d'apprentissage\n",
    "indapp=np.arange(0, floor(nt/2), 1)\n",
    "nb_app =np.size(indapp) #taille de l'échantillon d'apprentissage\n",
    "X=Xt[indapp,0:d]\n",
    "y=yt[indapp]\n",
    "n=np.size(indapp)\n",
    "\n",
    "#création du fichier de validation\n",
    "indval=np.arange(floor(nt/2),nt,1)\n",
    "Xv=Xt[indval,0:d]\n",
    "yv=yt[indval]"
   ]
  },
  {
   "cell_type": "markdown",
   "metadata": {},
   "source": [
    "### Question 1 :"
   ]
  },
  {
   "cell_type": "code",
   "execution_count": 45,
   "metadata": {},
   "outputs": [],
   "source": [
    "import numpy as np\n",
    "import matplotlib.pyplot as plt\n",
    "\n",
    "# Fonction de coût avec régularisation l2\n",
    "def cost_function(X, y, w, lambda_reg):\n",
    "    m = len(y)\n",
    "    error = X @ w - y\n",
    "    cost = (1 / 2) * (np.sum(error ** 2) + lambda_reg/2 * np.sum(w ** 2))\n",
    "    return cost\n",
    "\n",
    "# Fonction de gradient avec régularisation l2\n",
    "def gradient(X, y, w, lambda_reg):\n",
    "    m = len(y)\n",
    "    error = X @ w - y\n",
    "    grad = (1 / 2) * (X.T @ error + lambda_reg/2 * w)\n",
    "    return grad\n",
    "\n",
    "# Algorithme de descente de gradient stochastique\n",
    "def stochastic_gradient_descent(X, y, w_init, lambda_reg, learning_rate, num_iterations):\n",
    "    w = w_init.copy()\n",
    "    m = len(y)\n",
    "    costs = []\n",
    "\n",
    "    for iteration in range(num_iterations):\n",
    "        # Choix aléatoire d'un échantillon\n",
    "        random_index = np.random.randint(m)\n",
    "        X_i = X[random_index, :].reshape(1, -1)\n",
    "        y_i = y[random_index]\n",
    "\n",
    "        # Mise à jour des poids\n",
    "        grad = gradient(X_i, y_i, w, lambda_reg)\n",
    "        w = w - learning_rate * grad\n",
    "\n",
    "        # Enregistrement du coût pour analyse\n",
    "        cost = cost_function(X, y, w, lambda_reg)\n",
    "        costs.append(cost)\n",
    "\n",
    "    return w, costs\n",
    "\n",
    "# Paramètres\n",
    "lambda_reg = 10\n",
    "learning_rate = 0.01\n",
    "num_iterations = 10000\n",
    "\n",
    "# Ajout d'un terme constant pour le biais\n",
    "X_b = np.c_[np.ones((n, 1)), X]\n",
    "\n",
    "# Initialisation des poids\n",
    "w_init = np.random.randn(X_b.shape[1], 1)\n",
    "\n",
    "# Entraînement du modèle\n",
    "w_optimal, costs = stochastic_gradient_descent(X_b, y, w_init, lambda_reg, learning_rate, num_iterations)\n",
    "\n",
    "# Ajout d'un terme constant pour le biais sur l'échantillon de validation\n",
    "Xv_b = np.c_[np.ones((len(yv), 1)), Xv]\n",
    "\n",
    "# Prédiction sur l'échantillon d'apprentissage\n",
    "y_pred_train = X_b @ w_optimal\n",
    "\n",
    "# Prédiction sur l'échantillon de validation\n",
    "y_pred_val = Xv_b @ w_optimal\n",
    "\n",
    "# Ajout d'un terme constant pour le biais sur l'échantillon de validation\n",
    "Xv_b = np.c_[np.ones((len(yv), 1)), Xv]\n",
    "\n",
    "# Prédiction sur l'échantillon d'apprentissage\n",
    "y_pred_train = X_b @ w_optimal\n",
    "\n",
    "# Prédiction sur l'échantillon de validation\n",
    "y_pred_val = Xv_b @ w_optimal"
   ]
  },
  {
   "cell_type": "markdown",
   "metadata": {},
   "source": [
    "### Question 2 :"
   ]
  },
  {
   "cell_type": "code",
   "execution_count": 46,
   "metadata": {},
   "outputs": [
    {
     "name": "stdout",
     "output_type": "stream",
     "text": [
      "Critère sur l'échantillon d'apprentissage: 3.822426497554776\n",
      "Critère sur l'échantillon de validation: 5.161931967518928\n"
     ]
    }
   ],
   "source": [
    "# Calcul du critère sur l'échantillon de validation\n",
    "error_val = yv - Xv_b @ w_optimal\n",
    "critere_val = np.linalg.norm(error_val, ord=2)\n",
    "\n",
    "# Calcul du critère sur l'échantillon d'apprentissage\n",
    "error_train = y - X_b @ w_optimal\n",
    "critere_train = np.linalg.norm(error_train, ord=2)\n",
    "\n",
    "# Comparaison des critères\n",
    "print(\"Critère sur l'échantillon d'apprentissage:\", critere_train)\n",
    "print(\"Critère sur l'échantillon de validation:\", critere_val)"
   ]
  },
  {
   "cell_type": "markdown",
   "metadata": {},
   "source": [
    "Le critère sur l'échantillon de validation est plus élevé qu'avec l'échantillon d'apprentissage, cela peut indiquer un surajustement du modèle à l'échantillon d'apprentissage."
   ]
  },
  {
   "cell_type": "markdown",
   "metadata": {},
   "source": [
    "### Question 3 :"
   ]
  },
  {
   "cell_type": "code",
   "execution_count": 44,
   "metadata": {},
   "outputs": [
    {
     "data": {
      "image/png": "[encoded data removed]",
      "text/plain": [
       "<Figure size 432x288 with 1 Axes>"
      ]
     },
     "metadata": {
      "needs_background": "light"
     },
     "output_type": "display_data"
    }
   ],
   "source": [
    "# Liste des valeurs de lambda à tester\n",
    "lambda_values = [1,5,10,20,100]\n",
    "\n",
    "# Initialiser une liste pour stocker les critères sur l'échantillon de validation\n",
    "critere_val_list = []\n",
    "\n",
    "# Boucle sur les différentes valeurs de lambda\n",
    "for lambda_val in lambda_values:\n",
    "    # Initialiser les poids\n",
    "    w_init = np.zeros(X.shape[1])\n",
    "\n",
    "    # Résoudre le problème d'optimisation pour la valeur actuelle de lambda\n",
    "    w_optimal, costs = stochastic_gradient_descent(X, y, w_init, lambda_val, epsilon, num_iterations)\n",
    "    \n",
    "    # Calculer le critère sur l'échantillon de validation\n",
    "    error_val = yv - Xv_b[:, :-1] @ w_optimal\n",
    "    critere_val = np.linalg.norm(error_val, ord=2)\n",
    "    \n",
    "    # Ajouter le critère à la liste\n",
    "    critere_val_list.append(critere_val)\n",
    "\n",
    "    # Afficher ou stocker d'autres résultats selon vos besoins\n",
    "    #print(f\"Lambda: {lambda_val}, Critère Validation: {critere_val}\")\n",
    "\n",
    "# Tracer l'évolution du critère en fonction de lambda\n",
    "plt.plot(lambda_values, critere_val_list, marker='o')\n",
    "plt.xlabel('Lambda')\n",
    "plt.ylabel('Critère sur l\\'échantillon de validation')\n",
    "plt.title('Évolution du critère en fonction de lambda')\n",
    "plt.show()"
   ]
  },
  {
   "cell_type": "markdown",
   "metadata": {},
   "source": [
    "### Question 4 :"
   ]
  },
  {
   "cell_type": "code",
   "execution_count": null,
   "metadata": {},
   "outputs": [],
   "source": []
  }
 ],
 "metadata": {
  "kernelspec": {
   "display_name": "Python 3",
   "language": "python",
   "name": "python3"
  },
  "language_info": {
   "codemirror_mode": {
    "name": "ipython",
    "version": 3
   },
   "file_extension": ".py",
   "mimetype": "text/x-python",
   "name": "python",
   "nbconvert_exporter": "python",
   "pygments_lexer": "ipython3",
   "version": "3.8.5"
  }
 },
 "nbformat": 4,
 "nbformat_minor": 4
}
